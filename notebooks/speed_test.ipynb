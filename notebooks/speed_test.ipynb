{
 "cells": [
  {
   "cell_type": "code",
   "execution_count": 1,
   "metadata": {
    "scrolled": false
   },
   "outputs": [
    {
     "ename": "SystemExit",
     "evalue": "",
     "output_type": "error",
     "traceback": [
      "An exception has occurred, use %tb to see the full traceback.\n",
      "\u001b[1;31mSystemExit\u001b[0m\n"
     ]
    },
    {
     "name": "stderr",
     "output_type": "stream",
     "text": [
      "D:\\Users\\gjnet\\code_projects\\py_speed_test\\.venv\\lib\\site-packages\\IPython\\core\\interactiveshell.py:3327: UserWarning: To exit: use 'exit', 'quit', or Ctrl-D.\n",
      "  warn(\"To exit: use 'exit', 'quit', or Ctrl-D.\", stacklevel=1)\n"
     ]
    }
   ],
   "source": [
    "import pandas as pd\n",
    "import speedtest\n",
    "# from IPython.display import display, clear_output\n",
    "import PySimpleGUI as sg\n",
    "import gc\n",
    "import os\n",
    "import sys\n",
    "\n",
    "pd.options.display.max_rows = 200\n",
    "pd.options.display.precision = 2\n",
    "\n",
    "bit_to_mb_factor = 10**6\n",
    "\n",
    "main_dir = str(os.path.normpath(os.getcwd()+os.sep+os.pardir))\n",
    "images_dir = main_dir+os.sep+\"images\"+os.sep+\"exports\"+os.sep\n",
    "output_dir = main_dir+os.sep+\"data\"+os.sep+\"processed\"+os.sep\n",
    "\n",
    "app_logo_fname = \"app_logo.ico\"\n",
    "\n",
    "results = dict()\n",
    "timestamp_fmt = \"%d %B, %Y %H:%M:%S\"\n",
    "cities_rgx = \"sacramento$|austin$|mexico$|brasilia$|tallahassee$|washington, dc$|new york$\"\n",
    "cities_rgx += cities_rgx + \"manchester$|london$|frankfurt$|paris$|rome$|ankara$|moscow$\"\n",
    "cities_rgx += cities_rgx + \"new delhi$|tokyo$|canberra$|jakarta$|bangkok$|seoul$\"\n",
    "\n",
    "test_speed = sg.PopupYesNo(\"Test your worldwide internet speed?\", title=\"WST\",\n",
    "                           icon=images_dir+os.sep+app_logo_fname)\n",
    "\n",
    "# def close_all():\n",
    "#     sg.EasyPrintClose()\n",
    "#     sys.exit()\n",
    "\n",
    "if test_speed == \"Yes\":\n",
    "    s = speedtest.Speedtest()\n",
    "    servers_df = pd.DataFrame.from_dict(s.get_servers(), orient=\"index\")\n",
    "    servers_df= servers_df[0].reset_index(drop=True)\n",
    "    servers_df = pd.DataFrame(servers_df.to_list()).sort_values(\"d\").set_index(\"id\")  # sort by ping\n",
    "    # servers_df.head(2)\n",
    "\n",
    "    server_inds = servers_df[\"name\"][servers_df[\"name\"].str.contains(cities_rgx, case=False)]\n",
    "    server_inds = server_inds.drop_duplicates().index\n",
    "\n",
    "    start_time = pd.to_datetime('now')\n",
    "    print = sg.EasyPrint  # (do_not_reroute_stdout=False)\n",
    "    print(\"Welcome to Worldwide Speed Test. \\n\\nFor this to work, please close\"+\n",
    "          \" all internet related applications from all devices using the test\"+\n",
    "          \" network. Optionally restart the broadband device and set your\"+\n",
    "          \" power profile to high performance.\"+\n",
    "          \"\\n\\nINFO: start time - \"+start_time.strftime(timestamp_fmt)+\" - currently speed testing:\")\n",
    "\n",
    "    for i, server in enumerate(server_inds):\n",
    "        s = speedtest.Speedtest()\n",
    "\n",
    "        servers = [server]  # has to be one only\n",
    "        # If you want to test against a specific server\n",
    "        # servers = [1234]\n",
    "\n",
    "        s.get_servers(servers)  # run this to update the internal config of speedtest\n",
    "\n",
    "        threads = None\n",
    "        # If you want to use a single threaded test\n",
    "        # threads = 1\n",
    "\n",
    "        s.download(threads=threads)  # tests download\n",
    "        s.upload(threads=threads, pre_allocate=False)  # tests upload\n",
    "        s.results.share()  # shares results with speedtest\n",
    "\n",
    "        results[server] = s.results.dict()\n",
    "\n",
    "#         clear_output(wait=True)\n",
    "        print(servers_df[\"name\"].loc[server]+\", \"+servers_df[\"country\"].loc[server])\n",
    "\n",
    "    results_df = pd.DataFrame(results).T\n",
    "\n",
    "    server_df = pd.DataFrame()\n",
    "    client_df = pd.DataFrame()\n",
    "\n",
    "    for idx, server, client in results_df[[\"server\", \"client\"]].itertuples():\n",
    "        server_df = server_df.append(server, ignore_index=True)\n",
    "        client_df = client_df.append(client, ignore_index=True)\n",
    "\n",
    "    server_df.index, client_df.index = results_df.index, results_df.index\n",
    "    results_df = results_df.drop(columns=[\"server\", \"client\"])\n",
    "    results_df = pd.concat([results_df, server_df, client_df], axis=1, sort=False)\n",
    "\n",
    "    del server_df, client_df, results\n",
    "    gc.collect()\n",
    "\n",
    "    finish_time = pd.to_datetime('now')\n",
    "    print(\"INFO: end time - \", str(finish_time) + \". This took\",\n",
    "          round((finish_time - start_time).total_seconds() / 60, 2), \"minutes\")\n",
    "\n",
    "    # results_df = pd.read_csv(output_dir+isp_name_package+\".csv\")\n",
    "    print(\"Finished!\\n\\nMedian download speed is\", \n",
    "          round(results_df[\"download\"].median()/bit_to_mb_factor, 2), \"mb\",\n",
    "          \"\\nMedian upload speed is\", round(results_df[\"upload\"].median()/bit_to_mb_factor, 2), \"mb\",\n",
    "          \"\\nPing is\", round(results_df[\"ping\"].median(), 2), \"ms\")\n",
    "else:\n",
    "    break\n",
    "#     close_all()\n",
    "    \n",
    "# display(results_df.head())\n",
    "\n",
    "save_results = sg.PopupYesNo(\"Save results as a csv file?\", title=\"WST\", icon=images_dir+os.sep+app_logo_fname)\n",
    "\n",
    "if save_results == \"Yes\":\n",
    "    text_in = sg.PopupGetText('Please enter filename (without extension)',\n",
    "                              title=\"WST\",\n",
    "                              icon=images_dir+os.sep+app_logo_fname)\n",
    "    results_df.to_csv(output_dir+text_in+\".csv\", index=False)\n",
    "    break\n",
    "#     close_all()\n",
    "else:\n",
    "    break\n",
    "#     close_all()"
   ]
  }
 ],
 "metadata": {
  "kernelspec": {
   "display_name": "Python 3",
   "language": "python",
   "name": "python3"
  },
  "language_info": {
   "codemirror_mode": {
    "name": "ipython",
    "version": 3
   },
   "file_extension": ".py",
   "mimetype": "text/x-python",
   "name": "python",
   "nbconvert_exporter": "python",
   "pygments_lexer": "ipython3",
   "version": "3.7.6"
  },
  "pycharm": {
   "stem_cell": {
    "cell_type": "raw",
    "metadata": {
     "collapsed": false
    },
    "source": []
   }
  }
 },
 "nbformat": 4,
 "nbformat_minor": 4
}
